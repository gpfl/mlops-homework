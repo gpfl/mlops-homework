{
 "cells": [
  {
   "cell_type": "markdown",
   "metadata": {},
   "source": [
    "# Homework - Module 02"
   ]
  },
  {
   "cell_type": "code",
   "execution_count": 1,
   "metadata": {},
   "outputs": [],
   "source": [
    "import mlflow\n",
    "\n",
    "from mlflow.tracking import MlflowClient\n",
    "from mlflow.entities import ViewType\n",
    "\n",
    "MLFLOW_TRACKING_URI =\"http://127.0.0.1:5000\""
   ]
  },
  {
   "cell_type": "markdown",
   "metadata": {},
   "source": [
    "## Question 1"
   ]
  },
  {
   "cell_type": "code",
   "execution_count": 2,
   "metadata": {},
   "outputs": [
    {
     "name": "stdout",
     "output_type": "stream",
     "text": [
      "MLflow Version: 1.26.0\n"
     ]
    }
   ],
   "source": [
    "print(f\"MLflow Version: {mlflow.__version__}\")"
   ]
  },
  {
   "cell_type": "markdown",
   "metadata": {},
   "source": [
    "## Question 2"
   ]
  },
  {
   "cell_type": "code",
   "execution_count": 3,
   "metadata": {},
   "outputs": [
    {
     "name": "stdout",
     "output_type": "stream",
     "text": [
      "Number of files saved in output folder: 4\n"
     ]
    }
   ],
   "source": [
    "output_files = !ls homework/output\n",
    "print(f\"Number of files saved in output folder: {len(output_files)}\")"
   ]
  },
  {
   "cell_type": "markdown",
   "metadata": {},
   "source": [
    "## Question 3"
   ]
  },
  {
   "cell_type": "code",
   "execution_count": 4,
   "metadata": {},
   "outputs": [
    {
     "name": "stderr",
     "output_type": "stream",
     "text": [
      "2022/05/28 22:28:57 WARNING mlflow.utils.autologging_utils: You are using an unsupported version of sklearn. If you encounter errors during autologging, try upgrading / downgrading sklearn to a supported version, or try upgrading MLflow.\n",
      "2022/05/28 22:28:57 INFO mlflow.tracking.fluent: Autologging successfully enabled for sklearn.\n",
      "2022/05/28 22:29:19 WARNING mlflow.utils.autologging_utils: MLflow autologging encountered a warning: \"/usr/local/Caskroom/miniconda/base/envs/mlops/lib/python3.9/site-packages/_distutils_hack/__init__.py:30: UserWarning: Setuptools is replacing distutils.\"\n"
     ]
    }
   ],
   "source": [
    "from homework import train\n",
    "\n",
    "train.run(data_path='homework/output')"
   ]
  },
  {
   "cell_type": "code",
   "execution_count": 5,
   "metadata": {},
   "outputs": [
    {
     "data": {
      "text/plain": [
       "[<RunInfo: artifact_uri='file:///Users/gpfl/scripts/python/mlops-zoomcamp/02-experiment-tracking/mlruns/0/038ce39392614243b932254ffd39cd8b/artifacts', end_time=1653787760409, experiment_id='0', lifecycle_stage='active', run_id='038ce39392614243b932254ffd39cd8b', run_uuid='038ce39392614243b932254ffd39cd8b', start_time=1653787737485, status='FINISHED', user_id='gpfl'>]"
      ]
     },
     "execution_count": 5,
     "metadata": {},
     "output_type": "execute_result"
    }
   ],
   "source": [
    "mlflow.list_run_infos('0')"
   ]
  },
  {
   "cell_type": "code",
   "execution_count": 7,
   "metadata": {},
   "outputs": [
    {
     "name": "stdout",
     "output_type": "stream",
     "text": [
      "Number of parameters logged by MLflow: 17\n"
     ]
    }
   ],
   "source": [
    "run = mlflow.get_run(run_id=\"038ce39392614243b932254ffd39cd8b\") \n",
    "\n",
    "print(f\"Number of parameters logged by MLflow: {len(run.data.params)}\")"
   ]
  },
  {
   "cell_type": "markdown",
   "metadata": {},
   "source": [
    "## Question 4"
   ]
  },
  {
   "cell_type": "code",
   "execution_count": 8,
   "metadata": {},
   "outputs": [
    {
     "name": "stdout",
     "output_type": "stream",
     "text": [
      "--default-artifact-root\n"
     ]
    }
   ],
   "source": [
    "# mlflow ui --backend-store-uri sqlite:///homework.db --default-artifact-root ./artifacts \n",
    "\n",
    "print(\"--default-artifact-root\")"
   ]
  },
  {
   "cell_type": "markdown",
   "metadata": {},
   "source": [
    "## Question 5"
   ]
  },
  {
   "cell_type": "code",
   "execution_count": 25,
   "metadata": {},
   "outputs": [
    {
     "name": "stderr",
     "output_type": "stream",
     "text": [
      "2022/05/28 20:29:56 INFO mlflow.tracking.fluent: Experiment with name 'random-forest-hyperopt' does not exist. Creating a new experiment.\n"
     ]
    },
    {
     "name": "stdout",
     "output_type": "stream",
     "text": [
      "100%|██████████| 50/50 [05:56<00:00,  7.13s/trial, best loss: 6.6284257482044735]\n"
     ]
    }
   ],
   "source": [
    "%%sh\n",
    "cd homework\n",
    "python hpo.py"
   ]
  },
  {
   "cell_type": "code",
   "execution_count": 9,
   "metadata": {},
   "outputs": [
    {
     "data": {
      "text/plain": [
       "[<Experiment: artifact_location='./artifacts/0', experiment_id='0', lifecycle_stage='active', name='Default', tags={}>,\n",
       " <Experiment: artifact_location='./artifacts/2', experiment_id='2', lifecycle_stage='active', name='random-forest-hyperopt', tags={}>,\n",
       " <Experiment: artifact_location='./artifacts/3', experiment_id='3', lifecycle_stage='active', name='random-forest-best-models', tags={}>]"
      ]
     },
     "execution_count": 9,
     "metadata": {},
     "output_type": "execute_result"
    }
   ],
   "source": [
    "client = MlflowClient(tracking_uri=MLFLOW_TRACKING_URI)\n",
    "\n",
    "client.list_experiments()"
   ]
  },
  {
   "cell_type": "code",
   "execution_count": 10,
   "metadata": {},
   "outputs": [
    {
     "name": "stdout",
     "output_type": "stream",
     "text": [
      "Best RMSE: 6.628\n"
     ]
    }
   ],
   "source": [
    "best_run = client.search_runs(\n",
    "    experiment_ids=['2'], \n",
    "    filter_string=\"\",\n",
    "    run_view_type=ViewType.ACTIVE_ONLY,\n",
    "    max_results=1,\n",
    "    order_by=[\"metrics.rmse ASC\"]\n",
    ")\n",
    "\n",
    "for run in best_run:\n",
    "    print(f\"Best RMSE: {run.data.metrics['rmse']:.3f}\")"
   ]
  },
  {
   "cell_type": "markdown",
   "metadata": {},
   "source": [
    "## Question 6"
   ]
  },
  {
   "cell_type": "code",
   "execution_count": 41,
   "metadata": {},
   "outputs": [
    {
     "name": "stderr",
     "output_type": "stream",
     "text": [
      "2022/05/28 21:24:36 INFO mlflow.tracking.fluent: Experiment with name 'random-forest-best-models' does not exist. Creating a new experiment.\n",
      "2022/05/28 21:24:36 WARNING mlflow.utils.autologging_utils: You are using an unsupported version of sklearn. If you encounter errors during autologging, try upgrading / downgrading sklearn to a supported version, or try upgrading MLflow.\n",
      "2022/05/28 21:24:52 WARNING mlflow.utils.autologging_utils: MLflow autologging encountered a warning: \"/usr/local/Caskroom/miniconda/base/envs/mlops/lib/python3.9/site-packages/_distutils_hack/__init__.py:30: UserWarning: Setuptools is replacing distutils.\"\n",
      "Successfully registered model 'best-random-forest'.\n",
      "2022/05/28 21:26:03 INFO mlflow.tracking._model_registry.client: Waiting up to 300 seconds for model version to finish creation.                     Model name: best-random-forest, version 1\n",
      "Created version '1' of model 'best-random-forest'.\n"
     ]
    }
   ],
   "source": [
    "%%sh\n",
    "cd homework\n",
    "python register_model.py"
   ]
  },
  {
   "cell_type": "code",
   "execution_count": 11,
   "metadata": {},
   "outputs": [
    {
     "data": {
      "text/plain": [
       "[<Experiment: artifact_location='./artifacts/0', experiment_id='0', lifecycle_stage='active', name='Default', tags={}>,\n",
       " <Experiment: artifact_location='./artifacts/2', experiment_id='2', lifecycle_stage='active', name='random-forest-hyperopt', tags={}>,\n",
       " <Experiment: artifact_location='./artifacts/3', experiment_id='3', lifecycle_stage='active', name='random-forest-best-models', tags={}>]"
      ]
     },
     "execution_count": 11,
     "metadata": {},
     "output_type": "execute_result"
    }
   ],
   "source": [
    "client.list_experiments()"
   ]
  },
  {
   "cell_type": "code",
   "execution_count": 12,
   "metadata": {},
   "outputs": [
    {
     "name": "stdout",
     "output_type": "stream",
     "text": [
      "Best Test RMSE: 6.55\n"
     ]
    }
   ],
   "source": [
    "best_run = client.search_runs(\n",
    "    experiment_ids=['3'], \n",
    "    filter_string=\"\",\n",
    "    run_view_type=ViewType.ACTIVE_ONLY,\n",
    "    max_results=1,\n",
    "    order_by=[\"metrics.test_rmse ASC\"]\n",
    ")\n",
    "\n",
    "print(f\"Best Test RMSE: {best_run[0].data.metrics['test_rmse']:.2f}\")"
   ]
  }
 ],
 "metadata": {
  "kernelspec": {
   "display_name": "Python 3.9.12 ('mlops')",
   "language": "python",
   "name": "python3"
  },
  "language_info": {
   "codemirror_mode": {
    "name": "ipython",
    "version": 3
   },
   "file_extension": ".py",
   "mimetype": "text/x-python",
   "name": "python",
   "nbconvert_exporter": "python",
   "pygments_lexer": "ipython3",
   "version": "3.9.12"
  },
  "orig_nbformat": 4,
  "vscode": {
   "interpreter": {
    "hash": "f6b34a8192f69ca93f241c6a477cc15769fd8634fc7e87dd0d336c43da3c27c7"
   }
  }
 },
 "nbformat": 4,
 "nbformat_minor": 2
}
