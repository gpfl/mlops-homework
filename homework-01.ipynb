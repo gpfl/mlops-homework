{
 "cells": [
  {
   "cell_type": "markdown",
   "id": "innovative-greensboro",
   "metadata": {},
   "source": [
    "# MLOps Course - Homework 01"
   ]
  },
  {
   "cell_type": "markdown",
   "id": "bigger-interaction",
   "metadata": {},
   "source": [
    "#### Gustavo Flores"
   ]
  },
  {
   "cell_type": "code",
   "execution_count": 1,
   "id": "intensive-korea",
   "metadata": {},
   "outputs": [],
   "source": [
    "from sklearn.feature_extraction import DictVectorizer\n",
    "from sklearn.linear_model import LinearRegression\n",
    "from sklearn.linear_model import Lasso\n",
    "from sklearn.linear_model import Ridge\n",
    "\n",
    "from sklearn.metrics import mean_squared_error\n",
    "\n",
    "import pandas as pd"
   ]
  },
  {
   "cell_type": "code",
   "execution_count": 2,
   "id": "separate-extraction",
   "metadata": {},
   "outputs": [],
   "source": [
    "def calculate_duration(df):\n",
    "    duration = df['dropOff_datetime'] - df['pickup_datetime']\n",
    "    return duration.apply(lambda td: td.total_seconds() / 60)\n",
    "\n",
    "def filter_duration(df, inf_lim, sup_lim):\n",
    "    return df[(df.duration >= inf_lim) & (df.duration <= sup_lim)]\n",
    "\n",
    "def fill_categorical(df, cat_vars):\n",
    "    return df[categorical].fillna(value=-1).copy()\n",
    "\n",
    "def matrix_transform(df, cat_vars):\n",
    "\n",
    "    train_dicts = df[cat_vars].to_dict(orient='records')\n",
    "\n",
    "    dv = DictVectorizer()\n",
    "    return dv.fit_transform(train_dicts)"
   ]
  },
  {
   "cell_type": "markdown",
   "id": "legal-bradley",
   "metadata": {},
   "source": [
    "## Train Predictions"
   ]
  },
  {
   "cell_type": "code",
   "execution_count": 3,
   "id": "virgin-partnership",
   "metadata": {},
   "outputs": [],
   "source": [
    "train_df = pd.read_parquet('./data/fhv_tripdata_2021-01.parquet')"
   ]
  },
  {
   "cell_type": "code",
   "execution_count": 4,
   "id": "photographic-rugby",
   "metadata": {},
   "outputs": [
    {
     "data": {
      "text/html": [
       "<div>\n",
       "<style scoped>\n",
       "    .dataframe tbody tr th:only-of-type {\n",
       "        vertical-align: middle;\n",
       "    }\n",
       "\n",
       "    .dataframe tbody tr th {\n",
       "        vertical-align: top;\n",
       "    }\n",
       "\n",
       "    .dataframe thead th {\n",
       "        text-align: right;\n",
       "    }\n",
       "</style>\n",
       "<table border=\"1\" class=\"dataframe\">\n",
       "  <thead>\n",
       "    <tr style=\"text-align: right;\">\n",
       "      <th></th>\n",
       "      <th>dispatching_base_num</th>\n",
       "      <th>pickup_datetime</th>\n",
       "      <th>dropOff_datetime</th>\n",
       "      <th>PUlocationID</th>\n",
       "      <th>DOlocationID</th>\n",
       "      <th>SR_Flag</th>\n",
       "      <th>Affiliated_base_number</th>\n",
       "    </tr>\n",
       "  </thead>\n",
       "  <tbody>\n",
       "    <tr>\n",
       "      <th>0</th>\n",
       "      <td>B00009</td>\n",
       "      <td>2021-01-01 00:27:00</td>\n",
       "      <td>2021-01-01 00:44:00</td>\n",
       "      <td>NaN</td>\n",
       "      <td>NaN</td>\n",
       "      <td>None</td>\n",
       "      <td>B00009</td>\n",
       "    </tr>\n",
       "    <tr>\n",
       "      <th>1</th>\n",
       "      <td>B00009</td>\n",
       "      <td>2021-01-01 00:50:00</td>\n",
       "      <td>2021-01-01 01:07:00</td>\n",
       "      <td>NaN</td>\n",
       "      <td>NaN</td>\n",
       "      <td>None</td>\n",
       "      <td>B00009</td>\n",
       "    </tr>\n",
       "    <tr>\n",
       "      <th>2</th>\n",
       "      <td>B00013</td>\n",
       "      <td>2021-01-01 00:01:00</td>\n",
       "      <td>2021-01-01 01:51:00</td>\n",
       "      <td>NaN</td>\n",
       "      <td>NaN</td>\n",
       "      <td>None</td>\n",
       "      <td>B00013</td>\n",
       "    </tr>\n",
       "    <tr>\n",
       "      <th>3</th>\n",
       "      <td>B00037</td>\n",
       "      <td>2021-01-01 00:13:09</td>\n",
       "      <td>2021-01-01 00:21:26</td>\n",
       "      <td>NaN</td>\n",
       "      <td>72.0</td>\n",
       "      <td>None</td>\n",
       "      <td>B00037</td>\n",
       "    </tr>\n",
       "    <tr>\n",
       "      <th>4</th>\n",
       "      <td>B00037</td>\n",
       "      <td>2021-01-01 00:38:31</td>\n",
       "      <td>2021-01-01 00:53:44</td>\n",
       "      <td>NaN</td>\n",
       "      <td>61.0</td>\n",
       "      <td>None</td>\n",
       "      <td>B00037</td>\n",
       "    </tr>\n",
       "  </tbody>\n",
       "</table>\n",
       "</div>"
      ],
      "text/plain": [
       "  dispatching_base_num     pickup_datetime    dropOff_datetime  PUlocationID  \\\n",
       "0               B00009 2021-01-01 00:27:00 2021-01-01 00:44:00           NaN   \n",
       "1               B00009 2021-01-01 00:50:00 2021-01-01 01:07:00           NaN   \n",
       "2               B00013 2021-01-01 00:01:00 2021-01-01 01:51:00           NaN   \n",
       "3               B00037 2021-01-01 00:13:09 2021-01-01 00:21:26           NaN   \n",
       "4               B00037 2021-01-01 00:38:31 2021-01-01 00:53:44           NaN   \n",
       "\n",
       "   DOlocationID SR_Flag Affiliated_base_number  \n",
       "0           NaN    None                 B00009  \n",
       "1           NaN    None                 B00009  \n",
       "2           NaN    None                 B00013  \n",
       "3          72.0    None                 B00037  \n",
       "4          61.0    None                 B00037  "
      ]
     },
     "execution_count": 4,
     "metadata": {},
     "output_type": "execute_result"
    }
   ],
   "source": [
    "train_df.head()"
   ]
  },
  {
   "cell_type": "code",
   "execution_count": 5,
   "id": "athletic-accused",
   "metadata": {},
   "outputs": [
    {
     "data": {
      "text/plain": [
       "(1154112, 7)"
      ]
     },
     "execution_count": 5,
     "metadata": {},
     "output_type": "execute_result"
    }
   ],
   "source": [
    "train_df.shape"
   ]
  },
  {
   "cell_type": "code",
   "execution_count": 6,
   "id": "indian-place",
   "metadata": {},
   "outputs": [
    {
     "data": {
      "text/plain": [
       "19.167224093791006"
      ]
     },
     "execution_count": 6,
     "metadata": {},
     "output_type": "execute_result"
    }
   ],
   "source": [
    "train_df['duration'] = calculate_duration(train_df)\n",
    "\n",
    "train_df['duration'].mean()"
   ]
  },
  {
   "cell_type": "code",
   "execution_count": 7,
   "id": "alleged-small",
   "metadata": {},
   "outputs": [
    {
     "data": {
      "text/plain": [
       "-1.0      8.352733e-01\n",
       " 221.0    7.505681e-03\n",
       " 206.0    6.124383e-03\n",
       " 129.0    4.846706e-03\n",
       " 115.0    3.678054e-03\n",
       "              ...     \n",
       " 111.0    4.505211e-06\n",
       " 27.0     3.604169e-06\n",
       " 34.0     2.703126e-06\n",
       " 2.0      1.802084e-06\n",
       " 110.0    9.010421e-07\n",
       "Name: PUlocationID, Length: 262, dtype: float64"
      ]
     },
     "execution_count": 7,
     "metadata": {},
     "output_type": "execute_result"
    }
   ],
   "source": [
    "train_df = filter_duration(train_df, 1, 60)\n",
    "\n",
    "categorical = ['PUlocationID', 'DOlocationID']\n",
    "\n",
    "train_df.loc[:, categorical] = fill_categorical(train_df, categorical)\n",
    "\n",
    "train_df['PUlocationID'].value_counts(normalize=True)"
   ]
  },
  {
   "cell_type": "code",
   "execution_count": 8,
   "id": "catholic-passion",
   "metadata": {},
   "outputs": [],
   "source": [
    "X_train = matrix_transform(train_df, categorical)"
   ]
  },
  {
   "cell_type": "code",
   "execution_count": 9,
   "id": "pretty-discrimination",
   "metadata": {},
   "outputs": [
    {
     "data": {
      "text/plain": [
       "(1109826, 2)"
      ]
     },
     "execution_count": 9,
     "metadata": {},
     "output_type": "execute_result"
    }
   ],
   "source": [
    "X_train.get_shape()"
   ]
  },
  {
   "cell_type": "code",
   "execution_count": 10,
   "id": "computational-property",
   "metadata": {},
   "outputs": [
    {
     "data": {
      "text/plain": [
       "11.415432830521663"
      ]
     },
     "execution_count": 10,
     "metadata": {},
     "output_type": "execute_result"
    }
   ],
   "source": [
    "target = 'duration'\n",
    "y_train = train_df[target].values\n",
    "\n",
    "lr = LinearRegression()\n",
    "lr.fit(X_train, y_train)\n",
    "\n",
    "y_pred = lr.predict(X_train)\n",
    "\n",
    "mean_squared_error(y_train, y_pred, squared=False)"
   ]
  },
  {
   "cell_type": "markdown",
   "id": "similar-differential",
   "metadata": {},
   "source": [
    "## Test Predictions"
   ]
  },
  {
   "cell_type": "code",
   "execution_count": 11,
   "id": "southern-administrator",
   "metadata": {},
   "outputs": [],
   "source": [
    "test_df = pd.read_parquet('./data/fhv_tripdata_2021-02.parquet')"
   ]
  },
  {
   "cell_type": "code",
   "execution_count": 12,
   "id": "stuck-dialogue",
   "metadata": {},
   "outputs": [],
   "source": [
    "test_df['duration'] = calculate_duration(test_df)\n",
    "\n",
    "test_df = filter_duration(test_df, 1, 60)\n",
    "\n",
    "categorical = ['PUlocationID', 'DOlocationID']\n",
    "\n",
    "test_df.loc[:, categorical] = fill_categorical(test_df, categorical)\n",
    "\n",
    "X_test = matrix_transform(test_df, categorical)"
   ]
  },
  {
   "cell_type": "code",
   "execution_count": 13,
   "id": "collected-mortgage",
   "metadata": {},
   "outputs": [
    {
     "data": {
      "text/plain": [
       "11.85822362355935"
      ]
     },
     "execution_count": 13,
     "metadata": {},
     "output_type": "execute_result"
    }
   ],
   "source": [
    "target = 'duration'\n",
    "y_test = test_df[target].values\n",
    "\n",
    "y_pred_test = lr.predict(X_test)\n",
    "\n",
    "mean_squared_error(y_test, y_pred_test, squared=False)"
   ]
  }
 ],
 "metadata": {
  "kernelspec": {
   "display_name": "Python 3",
   "language": "python",
   "name": "python3"
  },
  "language_info": {
   "codemirror_mode": {
    "name": "ipython",
    "version": 3
   },
   "file_extension": ".py",
   "mimetype": "text/x-python",
   "name": "python",
   "nbconvert_exporter": "python",
   "pygments_lexer": "ipython3",
   "version": "3.8.6"
  }
 },
 "nbformat": 4,
 "nbformat_minor": 5
}
